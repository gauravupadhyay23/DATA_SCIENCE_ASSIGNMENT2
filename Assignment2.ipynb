{
 "cells": [
  {
   "cell_type": "markdown",
   "id": "5a0afc7f-053b-4bf2-81cf-e7e03079d213",
   "metadata": {},
   "source": [
    "Q1. How do you comment code in Python? What are the different types of comments?"
   ]
  },
  {
   "cell_type": "markdown",
   "id": "8cfd0cee-7089-4046-b4f9-60e962f586df",
   "metadata": {},
   "source": [
    "A1.  # Statement\n",
    " '''  Statemente  '''"
   ]
  },
  {
   "cell_type": "markdown",
   "id": "a8a159a1-1545-44c5-905a-9c511ecd6304",
   "metadata": {},
   "source": [
    "Q2. What are variables in Python? How do you declare and assign values to variables?"
   ]
  },
  {
   "cell_type": "markdown",
   "id": "f6bc7643-6e93-4975-aa80-29c187b25824",
   "metadata": {},
   "source": [
    "A2. A variable is a string of characters and numbers associated with a piece of information. \n",
    "The assignment operator, denoted by the “=” symbol, is the operator that is used to assign values to variables.\n",
    "For example :\n",
    "    x = 1   # integer\n",
    "    x = 1.5  # float\n",
    "    x = \"Hello students\"   #string\n",
    "    x = True   # Boolean\n",
    "    x = 4+1j # complex number"
   ]
  },
  {
   "cell_type": "markdown",
   "id": "13203ef7-8b96-4338-b3c2-c9757021b2a2",
   "metadata": {},
   "source": [
    "Q3. How do you convert one data type to another in Python?"
   ]
  },
  {
   "cell_type": "markdown",
   "id": "8eb7f8c3-00f9-440a-a445-c15a4415cb86",
   "metadata": {},
   "source": [
    "A3. To convert between types,  simply use the type name as a function.\n",
    "For example : \n",
    "x = int(input(\"Enter the value\"))\n",
    "x = float(5)"
   ]
  },
  {
   "cell_type": "markdown",
   "id": "8df170d9-0708-42ab-ba68-135d6fbff436",
   "metadata": {},
   "source": [
    "Q4. How do you write and execute a Python script from the command line?"
   ]
  },
  {
   "cell_type": "markdown",
   "id": "a910518e-c14a-48b1-9ebe-b657671c5676",
   "metadata": {},
   "source": [
    "A4. Open a command line and type the word python followed by the path to your script file \n",
    "like this: python first_script.py then hit the ENTER button from the keyboard"
   ]
  },
  {
   "cell_type": "markdown",
   "id": "f0991599-c2d0-455b-8e90-5f7ca15c134e",
   "metadata": {},
   "source": [
    "Q5. Given a list my_list = [1, 2, 3, 4, 5], write the code to slice the list and obtain the sub-list [2, 3]."
   ]
  },
  {
   "cell_type": "code",
   "execution_count": 6,
   "id": "e7d82f2d-448f-4b10-ad15-8cfe12cf07ba",
   "metadata": {},
   "outputs": [
    {
     "name": "stdout",
     "output_type": "stream",
     "text": [
      "[2, 3]\n"
     ]
    }
   ],
   "source": [
    "#A5\n",
    "my_list = [1,2,3,4,5]\n",
    "print(my_list[1:3])"
   ]
  },
  {
   "cell_type": "markdown",
   "id": "c8beb7fa-9a08-4b74-ba77-7b8b099138dd",
   "metadata": {},
   "source": [
    "Q6. What is a complex number in mathematics, and how is it represented in Python?"
   ]
  },
  {
   "cell_type": "markdown",
   "id": "33ae1244-c098-4a25-bcaf-aadf15193c95",
   "metadata": {},
   "source": [
    "A6. Number which have real and imaginary part known as complex number.Complex number is represented by \"x + yi\""
   ]
  },
  {
   "cell_type": "markdown",
   "id": "48ac2555-dfa0-4a1f-8eac-5be0a9626369",
   "metadata": {},
   "source": [
    "Q7. What is the correct way to declare a variable named age and assign the value 25 to it?"
   ]
  },
  {
   "cell_type": "markdown",
   "id": "14789806-c075-42ef-bb4c-49d64f9edcc2",
   "metadata": {},
   "source": [
    "age = int(25)"
   ]
  },
  {
   "cell_type": "markdown",
   "id": "698d57f4-a3e9-4f9d-b687-7859d42e20dd",
   "metadata": {},
   "source": [
    "Q8. Declare a variable named price and assign the value 9.99 to it. What data type does this variable\n",
    "belong to?"
   ]
  },
  {
   "cell_type": "code",
   "execution_count": 7,
   "id": "6f6df73d-fd0e-4fe8-9fe6-03f46a962078",
   "metadata": {},
   "outputs": [
    {
     "name": "stdout",
     "output_type": "stream",
     "text": [
      "<class 'float'>\n"
     ]
    }
   ],
   "source": [
    "price = 9.99\n",
    "print(type(price))"
   ]
  },
  {
   "cell_type": "markdown",
   "id": "92d66c23-cbb1-420c-94c1-1babadcf8aaa",
   "metadata": {},
   "source": [
    "Q9. Create a variable named name and assign your full name to it as a string. How would you print the\n",
    "value of this variable?"
   ]
  },
  {
   "cell_type": "code",
   "execution_count": 8,
   "id": "8f05b1bf-ea61-493b-91b8-95ac525d16a9",
   "metadata": {},
   "outputs": [
    {
     "name": "stdout",
     "output_type": "stream",
     "text": [
      "Gaurav Upadhyay\n",
      "<class 'str'>\n"
     ]
    }
   ],
   "source": [
    "name = \"Gaurav Upadhyay\"\n",
    "print(name)\n",
    "print(type(name))"
   ]
  },
  {
   "cell_type": "markdown",
   "id": "dd10ecbf-c44c-4050-8fdc-bf814625f596",
   "metadata": {},
   "source": [
    "Q10. Given the string \"Hello, World!\", extract the substring \"World\"."
   ]
  },
  {
   "cell_type": "code",
   "execution_count": 24,
   "id": "a3c4429d-8e6b-47cf-85f7-1d97c83cd078",
   "metadata": {},
   "outputs": [
    {
     "name": "stdout",
     "output_type": "stream",
     "text": [
      " World\n"
     ]
    }
   ],
   "source": [
    "a = \"Hello, World!\"\n",
    "print(a[6:-1:])"
   ]
  },
  {
   "cell_type": "markdown",
   "id": "77d89e87-fe8a-4e8c-8681-97b9c5a1bbd9",
   "metadata": {},
   "source": [
    "Q11. Create a variable named \"is_student\" and assign it a boolean value indicating whether you are\n",
    "currently a student or not."
   ]
  },
  {
   "cell_type": "code",
   "execution_count": 27,
   "id": "3a7ce9f9-d79b-4348-987a-e019e2359d08",
   "metadata": {},
   "outputs": [
    {
     "name": "stdout",
     "output_type": "stream",
     "text": [
      "True\n"
     ]
    }
   ],
   "source": [
    "is_student = True\n",
    "print(is_student)"
   ]
  },
  {
   "cell_type": "code",
   "execution_count": null,
   "id": "0d7ff80a-61dd-40d0-9fff-7e74c46dbd79",
   "metadata": {},
   "outputs": [],
   "source": []
  },
  {
   "cell_type": "code",
   "execution_count": null,
   "id": "5803af17-07eb-44e0-bbf4-729cb1ca6f47",
   "metadata": {},
   "outputs": [],
   "source": []
  }
 ],
 "metadata": {
  "kernelspec": {
   "display_name": "Python 3 (ipykernel)",
   "language": "python",
   "name": "python3"
  },
  "language_info": {
   "codemirror_mode": {
    "name": "ipython",
    "version": 3
   },
   "file_extension": ".py",
   "mimetype": "text/x-python",
   "name": "python",
   "nbconvert_exporter": "python",
   "pygments_lexer": "ipython3",
   "version": "3.10.8"
  }
 },
 "nbformat": 4,
 "nbformat_minor": 5
}
